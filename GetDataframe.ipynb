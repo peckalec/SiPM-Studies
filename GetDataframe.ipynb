{
 "cells": [
  {
   "cell_type": "code",
   "execution_count": null,
   "id": "16e9fafa-0608-4142-95c4-0496ace34100",
   "metadata": {},
   "outputs": [],
   "source": [
    "import UsefulFunctions as uf\n",
    "import pandas as pd\n",
    "import pickle"
   ]
  },
  {
   "cell_type": "markdown",
   "id": "68621c59-a04a-4a0c-adc7-97cc650a5255",
   "metadata": {},
   "source": [
    "### Required User Defined Inputs"
   ]
  },
  {
   "cell_type": "code",
   "execution_count": null,
   "id": "568d1ed9-8fb9-4415-869e-ebb047c7c6f9",
   "metadata": {},
   "outputs": [],
   "source": [
    "#list input files\n",
    "inputfiles = [\"../LongbarTiming-part2/3-2.txt\"]\n",
    "numinput = 18\n",
    "for i in range(numinput):\n",
    "    inputfiles.append(f\"../fcal_project/LongbarTiming-part2/3-{i+1}002.txt\")\n",
    "\n",
    "#choose which stats to calculate\n",
    "stats = [True,                         #chi^2\n",
    "         True,False,True,False,        #amplitude & time (raw, base, smooth, fit)\n",
    "         False]                        #CDF time -- not yet implemented\n",
    "\n",
    "#name your output (pkl) file\n",
    "#note: all input files are zipped into one output\n",
    "outputname = \"LongbarTiming_part2_3-12\""
   ]
  },
  {
   "cell_type": "markdown",
   "id": "173729ac-4ccb-46e7-b520-e0b13e0401b0",
   "metadata": {},
   "source": [
    "### Optional User Defined Inputs"
   ]
  },
  {
   "cell_type": "code",
   "execution_count": null,
   "id": "9963dd53-d945-486a-900e-1b5531ecd696",
   "metadata": {},
   "outputs": [],
   "source": [
    "###    Optional parameters (and the default values):\n",
    "\n",
    "#rmscut = 1.5\n",
    "residualcut = 1000        #Default: 5 -- tolerance of the residual cut -- data with residuals above this value are removed via smoothing\n",
    "#channels = [1,2,3,4]        #Default: [1,2,3,4] -- choose which channels to analyze; must be a list!\n",
    "#eventstart=1\n",
    "#verbose=False        #Default: False -- Set to True to see a few of the waveforms and the calculated values \n",
    "#show_residual=False        #Default: False -- Shows the residuals along with the waveforms when verbose=True\n",
    "#vieweventstart=1        #Default: 1 -- The event number where events start being displayed when verbose=True\n",
    "#viewevents=10        #Default: 10 -- The number of events displayed when verbose=True\n",
    "\n",
    "#    ***ONLY NEEDED IF USING get_time_fit OR get_amplitude_fit*** \n",
    "#    initial parameters for waveform fit -- if fit does not converge, set verbose=True and try to determine what the typical start/end times are;\n",
    "#    The fit is very sensitive to the initial start/end parameters \n",
    "'''\n",
    "start = 50\n",
    "end = start+35\n",
    "p0=[(0,start,1,end,-100,100),       #ch1 initial parameters\n",
    "    (0,start,1,end,-100,100),       #ch2 initial parameters\n",
    "    (0,start,1,end,-100,100),        #ch3 initial parameters\n",
    "    (0,start,1,end,-100,100)]        #ch4 initial parameters\n",
    "'''"
   ]
  },
  {
   "cell_type": "markdown",
   "id": "db129fc9-1168-4511-880e-45a2dc6bb431",
   "metadata": {},
   "source": [
    "### Get Dataframe!"
   ]
  },
  {
   "cell_type": "code",
   "execution_count": null,
   "id": "de3a0466-b24a-45fc-a6fa-4e680a44615c",
   "metadata": {},
   "outputs": [],
   "source": [
    "dataframe = uf.get_dataframe(inputfiles,stats,verbose=True)\n",
    "pd.to_pickle(dataframe, f\"{outputname}.pkl\")"
   ]
  },
  {
   "cell_type": "code",
   "execution_count": null,
   "id": "67f02bf5-eeef-40f9-b3ee-7fff030f6709",
   "metadata": {},
   "outputs": [],
   "source": [
    "#read the dataframe from the output pkl file\n",
    "with open(f'{outputname}.pkl', 'rb') as f:\n",
    "    fout = pickle.load(f)\n",
    "fout"
   ]
  }
 ],
 "metadata": {
  "kernelspec": {
   "display_name": "Python 3 (ipykernel)",
   "language": "python",
   "name": "python3"
  },
  "language_info": {
   "codemirror_mode": {
    "name": "ipython",
    "version": 3
   },
   "file_extension": ".py",
   "mimetype": "text/x-python",
   "name": "python",
   "nbconvert_exporter": "python",
   "pygments_lexer": "ipython3",
   "version": "3.9.12"
  }
 },
 "nbformat": 4,
 "nbformat_minor": 5
}
